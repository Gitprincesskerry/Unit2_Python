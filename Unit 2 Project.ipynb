{
  "nbformat": 4,
  "nbformat_minor": 0,
  "metadata": {
    "colab": {
      "name": "Untitled2.ipynb",
      "provenance": [],
      "collapsed_sections": [],
      "authorship_tag": "ABX9TyMan4XQ8aBhP+iZQwxbbAst",
      "include_colab_link": true
    },
    "kernelspec": {
      "display_name": "Python 3",
      "name": "python3"
    }
  },
  "cells": [
    {
      "cell_type": "markdown",
      "metadata": {
        "id": "view-in-github",
        "colab_type": "text"
      },
      "source": [
        "<a href=\"https://colab.research.google.com/github/Gitprincesskerry/Unit2_Python/blob/main/Unit%202%20Project.ipynb\" target=\"_parent\"><img src=\"https://colab.research.google.com/assets/colab-badge.svg\" alt=\"Open In Colab\"/></a>"
      ]
    },
    {
      "cell_type": "code",
      "metadata": {
        "colab": {
          "base_uri": "https://localhost:8080/"
        },
        "id": "IIfOvPlIhlyN",
        "outputId": "9bc4ee02-d432-4841-e063-c845c0fa5666"
      },
      "source": [
        "#Project 1 Unit 2 - Kerry Rainford\n",
        "#Ask the user for a number. Depending on whether the number is even or odd, print out an appropriate message to the user. \n",
        "#Extras: 1. If the number is a multiple of 4, print out a different message.\n",
        "\n",
        "print(\"Enter a number to see if it’s even or odd.\\n\")\n",
        "\n",
        "user_input = int(input())\n",
        "\n",
        "if user_input % 2 != 0:\n",
        "  print(\"\\nThis is an odd number\")\n",
        "elif user_input % 2 == 0 and user_input % 4 == 0:\n",
        "  print(\"\\nThis is an multiple of 4 and a even number\")\n",
        "else:\n",
        "  print(\"\\nThis is an even number\")\n",
        "\n",
        "\n"
      ],
      "execution_count": 1,
      "outputs": [
        {
          "output_type": "stream",
          "text": [
            "Enter a number to see if it’s even or odd.\n",
            "\n",
            "5\n",
            "\n",
            "This is an odd number\n"
          ],
          "name": "stdout"
        }
      ]
    },
    {
      "cell_type": "code",
      "metadata": {
        "id": "tpUoo9k1iPG8",
        "colab": {
          "base_uri": "https://localhost:8080/"
        },
        "outputId": "156f663e-fdc3-4b25-aa99-88a2f549b1e3"
      },
      "source": [
        "#2.\tAsk the user for two numbers: one number to check (call it num) and one number to divide by (check).\n",
        "#If check divides evenly into num, tell that to the user. If not, print a different appropriate message.\n",
        "\n",
        "print(\"Let's check if the following 2 numbers divide evenly into each other.\\n\\nEnter the dividend first and the divisor second.\")\n",
        "\n",
        "user_input1 = int(input())\n",
        "user_input2 = int(input())\n",
        "\n",
        "if user_input1 % user_input2 != 0:\n",
        "  print(\"\\nThe first number you entered does not divide evenly into the second number.\")\n",
        "else:\n",
        "  print(\"\\nThe first number you entered divides evenly into the second number.\")\n"
      ],
      "execution_count": 2,
      "outputs": [
        {
          "output_type": "stream",
          "text": [
            "Let's check if the following 2 numbers divide evenly into each other.\n",
            "\n",
            "Enter the dividend first and the divisor second.\n",
            "2\n",
            "1\n",
            "\n",
            "The first number you entered divides evenly into the second number.\n"
          ],
          "name": "stdout"
        }
      ]
    }
  ]
}