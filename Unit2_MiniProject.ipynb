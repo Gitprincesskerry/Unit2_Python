{
  "nbformat": 4,
  "nbformat_minor": 0,
  "metadata": {
    "colab": {
      "name": "Untitled2.ipynb",
      "provenance": [],
      "collapsed_sections": [],
      "authorship_tag": "ABX9TyMan4XQ8aBhP+iZQwxbbAst"
    },
    "kernelspec": {
      "display_name": "Python 3",
      "name": "python3"
    }
  },
  "cells": [
    {
      "cell_type": "code",
      "metadata": {
        "colab": {
          "base_uri": "https://localhost:8080/"
        },
        "id": "IIfOvPlIhlyN",
        "outputId": "c7171b3d-a2ae-4428-9307-84c766f1dcd1"
      },
      "source": [
        "#Project 1 Unit 2 - Kerry Rainford\n",
        "#Ask the user for a number. Depending on whether the number is even or odd, print out an appropriate message to the user. \n",
        "#Extras: 1. If the number is a multiple of 4, print out a different message.\n",
        "\n",
        "print(\"Enter a number to see if it’s even or odd.\\n\")\n",
        "\n",
        "user_input = int(input())\n",
        "\n",
        "if user_input % 2 != 0:\n",
        "  print(\"\\nThis is an odd number\")\n",
        "elif user_input % 2 == 0 and user_input % 4 == 0:\n",
        "  print(\"\\nThis is an multiple of 4 and a even number\")\n",
        "else:\n",
        "  print(\"\\nThis is an even number\")\n",
        "\n",
        "\n"
      ],
      "execution_count": 31,
      "outputs": [
        {
          "output_type": "stream",
          "text": [
            "Enter a number to see if it’s even or odd.\n",
            "\n",
            "20\n",
            "\n",
            "This is an multiple of 4 and a even number\n"
          ],
          "name": "stdout"
        }
      ]
    },
    {
      "cell_type": "code",
      "metadata": {
        "colab": {
          "base_uri": "https://localhost:8080/"
        },
        "id": "tpUoo9k1iPG8",
        "outputId": "3fb8aada-55b5-4e47-b31e-7b623cfa5129"
      },
      "source": [
        "#2.\tAsk the user for two numbers: one number to check (call it num) and one number to divide by (check).\n",
        "#If check divides evenly into num, tell that to the user. If not, print a different appropriate message.\n",
        "\n",
        "print(\"Let's check if the following 2 numbers divide evenly into each other.\\n\\nEnter the dividend first and the divisor second.\")\n",
        "\n",
        "user_input1 = int(input())\n",
        "user_input2 = int(input())\n",
        "\n",
        "if user_input1 % user_input2 != 0:\n",
        "  print(\"\\nThe first number you entered does not divide evenly into the second number.\")\n",
        "else:\n",
        "  print(\"\\nThe first number you entered divides evenly into the second number.\")\n"
      ],
      "execution_count": 73,
      "outputs": [
        {
          "output_type": "stream",
          "text": [
            "Let's check if the following 2 numbers divide evenly into each other.\n",
            "\n",
            "Enter the dividend first and the divisor second.\n",
            "5\n",
            "2\n",
            "\n",
            "The first number you entered does not divide evenly into the second number.\n"
          ],
          "name": "stdout"
        }
      ]
    }
  ]
}