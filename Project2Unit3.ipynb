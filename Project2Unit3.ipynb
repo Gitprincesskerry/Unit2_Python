{
  "nbformat": 4,
  "nbformat_minor": 0,
  "metadata": {
    "colab": {
      "name": "Project2Unit3.ipynb",
      "provenance": [],
      "collapsed_sections": [],
      "authorship_tag": "ABX9TyPZU3IxEm0u4HA44qnoEHs2",
      "include_colab_link": true
    },
    "kernelspec": {
      "name": "python3",
      "display_name": "Python 3"
    }
  },
  "cells": [
    {
      "cell_type": "markdown",
      "metadata": {
        "id": "view-in-github",
        "colab_type": "text"
      },
      "source": [
        "<a href=\"https://colab.research.google.com/github/Gitprincesskerry/Unit2_Python/blob/main/Project2Unit3.ipynb\" target=\"_parent\"><img src=\"https://colab.research.google.com/assets/colab-badge.svg\" alt=\"Open In Colab\"/></a>"
      ]
    },
    {
      "cell_type": "code",
      "metadata": {
        "colab": {
          "base_uri": "https://localhost:8080/",
          "height": 105
        },
        "id": "CUSYpqPLQtZQ",
        "outputId": "5e93b064-6f78-4678-e4eb-0f466c5ea07e"
      },
      "source": [
        "'''MINI PROJECT: COVID 19 Data Analysis\n",
        "\n",
        "Description: Ingest data from the latest New York Times' county-level COVID-19 database \n",
        "at https://github.com/nytimes/covid-19-data/blob/master/us-counties.csv, filter the data for a chosen county in a\n",
        "chosen state, calculate the daily count of new cases and new deaths, print the most recent 30 days' worth of data for\n",
        "the selected county. Perform EDA and show your findings through different plots and visualization techniques.\n",
        "\n",
        "Task 1 : Environment Set up\n",
        "Task 2 : Data Collection\n",
        "Task 3 : Data Wrangling and EDA (Exploratory Data Analysis)\n",
        "Task 4: Understand NY Covid 19 data in last 30 days\n",
        "Task 5: Comparing Covid 19 data with different states\n",
        "Task 6: Conclusion\n",
        "'''"
      ],
      "execution_count": 1,
      "outputs": [
        {
          "output_type": "execute_result",
          "data": {
            "application/vnd.google.colaboratory.intrinsic+json": {
              "type": "string"
            },
            "text/plain": [
              "\"MINI PROJECT: COVID 19 Data Analysis\\n\\nDescription: Ingest data from the latest New York Times' county-level COVID-19 database \\nat https://github.com/nytimes/covid-19-data/blob/master/us-counties.csv, filter the data for a chosen county in a\\nchosen state, calculate the daily count of new cases and new deaths, print the most recent 30 days' worth of data for\\nthe selected county. Perform EDA and show your findings through different plots and visualization techniques.\\n\\nTask 1 : Environment Set up\\nTask 2 : Data Collection\\nTask 3 : Data Wrangling and EDA (Exploratory Data Analysis)\\nTask 4: Understand NY Covid 19 data in last 30 days\\nTask 5: Comparing Covid 19 data with different states\\nTask 6: Conclusion\\n\""
            ]
          },
          "metadata": {
            "tags": []
          },
          "execution_count": 1
        }
      ]
    },
    {
      "cell_type": "code",
      "metadata": {
        "id": "BzLo50gNLiYu"
      },
      "source": [
        "# Task 1: Environment Set up\n",
        "import numpy as np\n",
        "import pandas as pd\n",
        "from datetime import date, timedelta\n",
        "import matplotlib.pyplot as plt\n",
        "%matplotlib inline"
      ],
      "execution_count": 2,
      "outputs": []
    },
    {
      "cell_type": "code",
      "metadata": {
        "colab": {
          "base_uri": "https://localhost:8080/",
          "height": 419
        },
        "id": "5BIBWx8JLtoX",
        "outputId": "a5afc1b7-dc99-415c-ffdb-977555b8d860"
      },
      "source": [
        "# Task 2: Data Collection: The following two lines imports the csv file from the link above and prints the first few records and confirms there are 939K+ rows × 6 columns\n",
        "covid_file = pd.read_csv('https://raw.githubusercontent.com/nytimes/covid-19-data/master/us-counties.csv')\n",
        "covid_file"
      ],
      "execution_count": 3,
      "outputs": [
        {
          "output_type": "execute_result",
          "data": {
            "text/html": [
              "<div>\n",
              "<style scoped>\n",
              "    .dataframe tbody tr th:only-of-type {\n",
              "        vertical-align: middle;\n",
              "    }\n",
              "\n",
              "    .dataframe tbody tr th {\n",
              "        vertical-align: top;\n",
              "    }\n",
              "\n",
              "    .dataframe thead th {\n",
              "        text-align: right;\n",
              "    }\n",
              "</style>\n",
              "<table border=\"1\" class=\"dataframe\">\n",
              "  <thead>\n",
              "    <tr style=\"text-align: right;\">\n",
              "      <th></th>\n",
              "      <th>date</th>\n",
              "      <th>county</th>\n",
              "      <th>state</th>\n",
              "      <th>fips</th>\n",
              "      <th>cases</th>\n",
              "      <th>deaths</th>\n",
              "    </tr>\n",
              "  </thead>\n",
              "  <tbody>\n",
              "    <tr>\n",
              "      <th>0</th>\n",
              "      <td>2020-01-21</td>\n",
              "      <td>Snohomish</td>\n",
              "      <td>Washington</td>\n",
              "      <td>53061.0</td>\n",
              "      <td>1</td>\n",
              "      <td>0.0</td>\n",
              "    </tr>\n",
              "    <tr>\n",
              "      <th>1</th>\n",
              "      <td>2020-01-22</td>\n",
              "      <td>Snohomish</td>\n",
              "      <td>Washington</td>\n",
              "      <td>53061.0</td>\n",
              "      <td>1</td>\n",
              "      <td>0.0</td>\n",
              "    </tr>\n",
              "    <tr>\n",
              "      <th>2</th>\n",
              "      <td>2020-01-23</td>\n",
              "      <td>Snohomish</td>\n",
              "      <td>Washington</td>\n",
              "      <td>53061.0</td>\n",
              "      <td>1</td>\n",
              "      <td>0.0</td>\n",
              "    </tr>\n",
              "    <tr>\n",
              "      <th>3</th>\n",
              "      <td>2020-01-24</td>\n",
              "      <td>Cook</td>\n",
              "      <td>Illinois</td>\n",
              "      <td>17031.0</td>\n",
              "      <td>1</td>\n",
              "      <td>0.0</td>\n",
              "    </tr>\n",
              "    <tr>\n",
              "      <th>4</th>\n",
              "      <td>2020-01-24</td>\n",
              "      <td>Snohomish</td>\n",
              "      <td>Washington</td>\n",
              "      <td>53061.0</td>\n",
              "      <td>1</td>\n",
              "      <td>0.0</td>\n",
              "    </tr>\n",
              "    <tr>\n",
              "      <th>...</th>\n",
              "      <td>...</td>\n",
              "      <td>...</td>\n",
              "      <td>...</td>\n",
              "      <td>...</td>\n",
              "      <td>...</td>\n",
              "      <td>...</td>\n",
              "    </tr>\n",
              "    <tr>\n",
              "      <th>939983</th>\n",
              "      <td>2021-01-17</td>\n",
              "      <td>Sweetwater</td>\n",
              "      <td>Wyoming</td>\n",
              "      <td>56037.0</td>\n",
              "      <td>3290</td>\n",
              "      <td>26.0</td>\n",
              "    </tr>\n",
              "    <tr>\n",
              "      <th>939984</th>\n",
              "      <td>2021-01-17</td>\n",
              "      <td>Teton</td>\n",
              "      <td>Wyoming</td>\n",
              "      <td>56039.0</td>\n",
              "      <td>2685</td>\n",
              "      <td>4.0</td>\n",
              "    </tr>\n",
              "    <tr>\n",
              "      <th>939985</th>\n",
              "      <td>2021-01-17</td>\n",
              "      <td>Uinta</td>\n",
              "      <td>Wyoming</td>\n",
              "      <td>56041.0</td>\n",
              "      <td>1817</td>\n",
              "      <td>9.0</td>\n",
              "    </tr>\n",
              "    <tr>\n",
              "      <th>939986</th>\n",
              "      <td>2021-01-17</td>\n",
              "      <td>Washakie</td>\n",
              "      <td>Wyoming</td>\n",
              "      <td>56043.0</td>\n",
              "      <td>842</td>\n",
              "      <td>23.0</td>\n",
              "    </tr>\n",
              "    <tr>\n",
              "      <th>939987</th>\n",
              "      <td>2021-01-17</td>\n",
              "      <td>Weston</td>\n",
              "      <td>Wyoming</td>\n",
              "      <td>56045.0</td>\n",
              "      <td>602</td>\n",
              "      <td>4.0</td>\n",
              "    </tr>\n",
              "  </tbody>\n",
              "</table>\n",
              "<p>939988 rows × 6 columns</p>\n",
              "</div>"
            ],
            "text/plain": [
              "              date      county       state     fips  cases  deaths\n",
              "0       2020-01-21   Snohomish  Washington  53061.0      1     0.0\n",
              "1       2020-01-22   Snohomish  Washington  53061.0      1     0.0\n",
              "2       2020-01-23   Snohomish  Washington  53061.0      1     0.0\n",
              "3       2020-01-24        Cook    Illinois  17031.0      1     0.0\n",
              "4       2020-01-24   Snohomish  Washington  53061.0      1     0.0\n",
              "...            ...         ...         ...      ...    ...     ...\n",
              "939983  2021-01-17  Sweetwater     Wyoming  56037.0   3290    26.0\n",
              "939984  2021-01-17       Teton     Wyoming  56039.0   2685     4.0\n",
              "939985  2021-01-17       Uinta     Wyoming  56041.0   1817     9.0\n",
              "939986  2021-01-17    Washakie     Wyoming  56043.0    842    23.0\n",
              "939987  2021-01-17      Weston     Wyoming  56045.0    602     4.0\n",
              "\n",
              "[939988 rows x 6 columns]"
            ]
          },
          "metadata": {
            "tags": []
          },
          "execution_count": 3
        }
      ]
    },
    {
      "cell_type": "code",
      "metadata": {
        "colab": {
          "base_uri": "https://localhost:8080/",
          "height": 330
        },
        "id": "z2Xi2IO4MAkB",
        "outputId": "263f1767-c1ad-43de-ea78-6728bd3fa2f8"
      },
      "source": [
        "#Task 3: Data Wrangling and EDA\n",
        "\n",
        "#Selects the date, county, state, fips, cases, and deaths columns from the file (the aforementioned fields are all of the columns.)\n",
        "covid_file[['date','county','state', 'fips', 'cases', 'deaths']]\n",
        "covid_file\n",
        "\n",
        "#Filters Westchester County in New York State \n",
        "covid_file_westchester_newyork = covid_file[(covid_file['county']=='Westchester') & (covid_file['state']=='New York')]\n",
        "covid_file_westchester_newyork\n",
        "\n",
        "#Confirms the number of cases in Westchester County, New York and saves it in a variable named c3\n",
        "c3 = covid_file_westchester_newyork.groupby(['county'])['cases'].count()\n",
        "c3\n",
        "\n",
        "#Calculates the count cases per day in Westchester County, New York and depicts this information via a line graph\n",
        "c4 = covid_file_westchester_newyork.groupby(['date'])['cases'].sum()\n",
        "c4\n",
        "\n",
        "covid_file_westchester_newyork.groupby(['date'])['cases'].sum().sort_values(ascending=True).plot(kind='line')\n",
        "\n",
        "#Calculates the count deaths per day in Westchester County, New York\n",
        "c5 = covid_file_westchester_newyork.groupby(['date'])['deaths'].sum()\n",
        "c5\n",
        "\n",
        "covid_file_westchester_newyork.groupby(['date'])['deaths'].sum().sort_values(ascending=True).plot(kind='line')\n",
        "\n",
        "#Calculates the total number of cases in Westchester County, New York\n",
        "c6 = covid_file_westchester_newyork.groupby(['county'])['cases'].sum()\n",
        "c6\n",
        "\n",
        "#Calculates the total number of deaths in Westchester County, New York\n",
        "c7 = covid_file_westchester_newyork.groupby(['county'])['deaths'].sum()\n",
        "c7"
      ],
      "execution_count": 4,
      "outputs": [
        {
          "output_type": "execute_result",
          "data": {
            "text/plain": [
              "county\n",
              "Westchester    414692.0\n",
              "Name: deaths, dtype: float64"
            ]
          },
          "metadata": {
            "tags": []
          },
          "execution_count": 4
        },
        {
          "output_type": "display_data",
          "data": {
            "image/png": "[encoded data removed]",
            "text/plain": [
              "<Figure size 432x288 with 1 Axes>"
            ]
          },
          "metadata": {
            "tags": [],
            "needs_background": "light"
          }
        }
      ]
    },
    {
      "cell_type": "code",
      "metadata": {
        "colab": {
          "base_uri": "https://localhost:8080/",
          "height": 54
        },
        "id": "GhWdnsq2MlvE",
        "outputId": "f2eb1c8d-d591-4505-8bcc-a7734528f9b6"
      },
      "source": [
        "#Task 4: Understand NY Covid 19 data in last 30 days\n",
        "'''\n",
        "df_last30days = covid_file_westchester_newyork[(covid_file_westchester_newyork['date'] >= '2021-12-19') & (covid_file_westchester_newyork['date'] <= '2020-1-18')]\n",
        "df_last30days\n",
        "'''\n",
        "\n",
        "#Perform EDA and show your findings through different plots and visualization techniques......"
      ],
      "execution_count": 5,
      "outputs": [
        {
          "output_type": "execute_result",
          "data": {
            "application/vnd.google.colaboratory.intrinsic+json": {
              "type": "string"
            },
            "text/plain": [
              "\"\\ndf_last30days\\xa0=\\xa0covid_file_westchester_newyork[(covid_file_westchester_newyork['date']\\xa0>=\\xa0'2021-12-19')\\xa0&\\xa0(covid_file_westchester_newyork['date']\\xa0<=\\xa0'2020-1-18')]\\ndf_last30days\\n\""
            ]
          },
          "metadata": {
            "tags": []
          },
          "execution_count": 5
        }
      ]
    },
    {
      "cell_type": "code",
      "metadata": {
        "colab": {
          "base_uri": "https://localhost:8080/",
          "height": 686
        },
        "id": "ILtYkfkZNDoZ",
        "outputId": "05532991-df9d-42a6-9d4d-4f89ff022faf"
      },
      "source": [
        "#Task 5: Comparing Covid 19 data with different states\n",
        "\n",
        "#Calculates the total cases for each state and depicts it via a bar chart\n",
        "c8 = covid_file.groupby(['state'])['cases'].sum().sort_values(ascending=True)\n",
        "c8\n",
        "\n",
        "covid_file.groupby(['state'])['cases'].sum().sort_values(ascending=True).plot(kind='bar')\n",
        "\n",
        "#Calculates the total deaths for each state and depicts it via a bar graph\n",
        "c9 = covid_file.groupby(['state'])['deaths'].sum().sort_values(ascending=True)\n",
        "c9\n",
        "\n",
        "covid_file.groupby(['state'])['deaths'].sum().sort_values(ascending=True).plot(kind='bar')\n",
        "\n",
        "#depicts general information regarding the oroginal data set\n",
        "covid_file.describe()\n"
      ],
      "execution_count": 6,
      "outputs": [
        {
          "output_type": "execute_result",
          "data": {
            "text/html": [
              "<div>\n",
              "<style scoped>\n",
              "    .dataframe tbody tr th:only-of-type {\n",
              "        vertical-align: middle;\n",
              "    }\n",
              "\n",
              "    .dataframe tbody tr th {\n",
              "        vertical-align: top;\n",
              "    }\n",
              "\n",
              "    .dataframe thead th {\n",
              "        text-align: right;\n",
              "    }\n",
              "</style>\n",
              "<table border=\"1\" class=\"dataframe\">\n",
              "  <thead>\n",
              "    <tr style=\"text-align: right;\">\n",
              "      <th></th>\n",
              "      <th>fips</th>\n",
              "      <th>cases</th>\n",
              "      <th>deaths</th>\n",
              "    </tr>\n",
              "  </thead>\n",
              "  <tbody>\n",
              "    <tr>\n",
              "      <th>count</th>\n",
              "      <td>931216.000000</td>\n",
              "      <td>9.399880e+05</td>\n",
              "      <td>919901.000000</td>\n",
              "    </tr>\n",
              "    <tr>\n",
              "      <th>mean</th>\n",
              "      <td>31272.924206</td>\n",
              "      <td>2.238276e+03</td>\n",
              "      <td>57.326599</td>\n",
              "    </tr>\n",
              "    <tr>\n",
              "      <th>std</th>\n",
              "      <td>16300.883885</td>\n",
              "      <td>1.174562e+04</td>\n",
              "      <td>461.961465</td>\n",
              "    </tr>\n",
              "    <tr>\n",
              "      <th>min</th>\n",
              "      <td>1001.000000</td>\n",
              "      <td>0.000000e+00</td>\n",
              "      <td>0.000000</td>\n",
              "    </tr>\n",
              "    <tr>\n",
              "      <th>25%</th>\n",
              "      <td>19001.000000</td>\n",
              "      <td>4.100000e+01</td>\n",
              "      <td>0.000000</td>\n",
              "    </tr>\n",
              "    <tr>\n",
              "      <th>50%</th>\n",
              "      <td>29217.000000</td>\n",
              "      <td>2.670000e+02</td>\n",
              "      <td>5.000000</td>\n",
              "    </tr>\n",
              "    <tr>\n",
              "      <th>75%</th>\n",
              "      <td>46101.000000</td>\n",
              "      <td>1.151000e+03</td>\n",
              "      <td>24.000000</td>\n",
              "    </tr>\n",
              "    <tr>\n",
              "      <th>max</th>\n",
              "      <td>78030.000000</td>\n",
              "      <td>1.015063e+06</td>\n",
              "      <td>26036.000000</td>\n",
              "    </tr>\n",
              "  </tbody>\n",
              "</table>\n",
              "</div>"
            ],
            "text/plain": [
              "                fips         cases         deaths\n",
              "count  931216.000000  9.399880e+05  919901.000000\n",
              "mean    31272.924206  2.238276e+03      57.326599\n",
              "std     16300.883885  1.174562e+04     461.961465\n",
              "min      1001.000000  0.000000e+00       0.000000\n",
              "25%     19001.000000  4.100000e+01       0.000000\n",
              "50%     29217.000000  2.670000e+02       5.000000\n",
              "75%     46101.000000  1.151000e+03      24.000000\n",
              "max     78030.000000  1.015063e+06   26036.000000"
            ]
          },
          "metadata": {
            "tags": []
          },
          "execution_count": 6
        },
        {
          "output_type": "display_data",
          "data": {
            "image/png": "[encoded data removed]",
            "text/plain": [
              "<Figure size 432x288 with 1 Axes>"
            ]
          },
          "metadata": {
            "tags": [],
            "needs_background": "light"
          }
        }
      ]
    },
    {
      "cell_type": "code",
      "metadata": {
        "colab": {
          "base_uri": "https://localhost:8080/",
          "height": 88
        },
        "id": "w1fctXfqNDzr",
        "outputId": "e9734764-a1a2-4251-e6da-a45484b92a1e"
      },
      "source": [
        "#Task 6: Conclusion\n",
        "'''Based on my findings, New York has the highest amount of deaths. The top five states with the highest deaths\n",
        "are Florida, Texas, California, New Jersey, and New York. Additonally, the top five states with the highest cases\n",
        "are Illinois, New York, Florida, Texas, and California. When comparing both of the aformentioned statements, the data\n",
        "tells a story that Illinois and New Jersey residents are recovering from COVID-19 more than New York, Florida, and California. \n",
        "'''"
      ],
      "execution_count": 7,
      "outputs": [
        {
          "output_type": "execute_result",
          "data": {
            "application/vnd.google.colaboratory.intrinsic+json": {
              "type": "string"
            },
            "text/plain": [
              "'Based on my findings, New York has the highest amount of deaths. The top five states with the highest deaths\\nare Florida, Texas, California, New Jersey, and New York. Additonally, the top five states with the highest cases\\nare Illinois, New York, Florida, Texas, and California. When comparing both of the aformentioned statements, the data\\ntells a story that Illinois and New Jersey residents are recovering from COVID-19 more than New York, Florida, and California. \\n'"
            ]
          },
          "metadata": {
            "tags": []
          },
          "execution_count": 7
        }
      ]
    }
  ]
}