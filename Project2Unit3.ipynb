{
  "nbformat": 4,
  "nbformat_minor": 0,
  "metadata": {
    "colab": {
      "name": "Project2Unit3.ipynb",
      "provenance": [],
      "collapsed_sections": [],
      "authorship_tag": "ABX9TyMYPuakVIuKQ993NXD+DLNp",
      "include_colab_link": true
    },
    "kernelspec": {
      "name": "python3",
      "display_name": "Python 3"
    }
  },
  "cells": [
    {
      "cell_type": "markdown",
      "metadata": {
        "id": "view-in-github",
        "colab_type": "text"
      },
      "source": [
        "<a href=\"https://colab.research.google.com/github/Gitprincesskerry/Unit2_Python/blob/main/Project2Unit3.ipynb\" target=\"_parent\"><img src=\"https://colab.research.google.com/assets/colab-badge.svg\" alt=\"Open In Colab\"/></a>"
      ]
    },
    {
      "cell_type": "code",
      "metadata": {
        "colab": {
          "base_uri": "https://localhost:8080/",
          "height": 54
        },
        "id": "CUSYpqPLQtZQ",
        "outputId": "a3de1ea8-e4c7-4d8c-dfb4-8e73e64aa44e"
      },
      "source": [
        "'''MINI PROJECT: COVID 19 Data Analysis\n",
        "\n",
        "Description: Ingest data from the latest New York Times' county-level COVID-19 database \n",
        "at https://github.com/nytimes/covid-19-data/blob/master/us-counties.csv, filter the data for a chosen county in a\n",
        "chosen state, calculate the daily count of new cases and new deaths, print the most recent 30 days' worth of data for\n",
        "the selected county. Perform EDA and show your findings through different plots and visualization techniques.\n",
        "\n",
        "Task 1 : Environment Set up\n",
        "Task 2 : Data Collection\n",
        "Task 3 : Data Wrangling and EDA (Exploratory Data Analysis)\n",
        "Task 4: Understand NY Covid 19 data in last 30 days\n",
        "Task 5: Comparing Covid 19 data with different states\n",
        "Task 6: Conclusion\n",
        "'''\n",
        "\n",
        "import numpy as np\n",
        "import pandas as pd\n",
        "from datetime import datetime\n",
        "\n",
        "# Task1: Environment Set up - The following two lines imports the csv file from the link above and prints the first few records and confirms there are 939K+ rows × 6 columns\n",
        "covid_file = pd.read_csv('https://raw.githubusercontent.com/nytimes/covid-19-data/master/us-counties.csv')\n",
        "covid_file\n",
        "\n",
        "#Selects the date, county, state, fips, cases, and deaths columns from the file (the aforementioned fields are all of the columns.)\n",
        "covid_file[['date','county','state', 'fips', 'cases', 'deaths']]\n",
        "covid_file\n",
        "\n",
        "# Task 2: Filters Westchester County in New York State \n",
        "covid_file_westchester_newyork = covid_file[(covid_file['county']=='Westchester') & (covid_file['state']=='New York')]\n",
        "covid_file_westchester_newyork\n",
        "\n",
        "#Confirms the number of cases in Westchester County, New York and saves it in a variable named c3\n",
        "c3 = covid_file_westchester_newyork.groupby(['county'])['cases'].count()\n",
        "c3\n",
        "\n",
        "# Task 3: Calculates the daily count of new cases and new deaths \n",
        "c4 = covid_file_westchester_newyork.groupby(['county'])['cases'].sum()\n",
        "c4\n",
        "\n",
        "c5 = covid_file_westchester_newyork.groupby(['county'])['deaths'].sum()\n",
        "c5\n",
        "\n",
        "#Task 4: Understand NY Covid 19 data in last 30 days\n",
        "\n",
        "# Tells us today's date \n",
        "todays_date = date.today().isoformat\n",
        "todays_date\n",
        "\n",
        "# Tells us the date from 30 days ago\n",
        "thirty_days_before = (date.today()-timedelta(days=30)).isoformat()\n",
        "thirty_days_before\n",
        "\n",
        "'''\n",
        "df_last30days = covid_file_westchester_newyork[(covid_file_westchester_newyork['date'] >= '2021-12-19') & (covid_file_westchester_newyork['date'] <= '2020-1-18')]\n",
        "df_last30days\n",
        "'''\n",
        "\n",
        "#Task 5: Comparing Covid 19 data with different states\n",
        "\n",
        "\n",
        "#Task 6: Conclusion\n"
      ],
      "execution_count": 46,
      "outputs": [
        {
          "output_type": "execute_result",
          "data": {
            "application/vnd.google.colaboratory.intrinsic+json": {
              "type": "string"
            },
            "text/plain": [
              "\"\\ndf_last30days\\xa0=\\xa0covid_file_westchester_newyork[(covid_file_westchester_newyork['date']\\xa0>=\\xa0'2021-12-19')\\xa0&\\xa0(covid_file_westchester_newyork['date']\\xa0<=\\xa0'2020-1-18')]\\ndf_last30days\\n\""
            ]
          },
          "metadata": {
            "tags": []
          },
          "execution_count": 46
        }
      ]
    }
  ]
}