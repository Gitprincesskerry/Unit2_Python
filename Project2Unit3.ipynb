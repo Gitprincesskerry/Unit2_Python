{
  "nbformat": 4,
  "nbformat_minor": 0,
  "metadata": {
    "colab": {
      "name": "Project2Unit3.ipynb",
      "provenance": [],
      "collapsed_sections": [],
      "authorship_tag": "ABX9TyO1bsDYYo6oHNVsDf5UvN/n",
      "include_colab_link": true
    },
    "kernelspec": {
      "name": "python3",
      "display_name": "Python 3"
    }
  },
  "cells": [
    {
      "cell_type": "markdown",
      "metadata": {
        "id": "view-in-github",
        "colab_type": "text"
      },
      "source": [
        "<a href=\"https://colab.research.google.com/github/Gitprincesskerry/Unit2_Python/blob/main/Project2Unit3.ipynb\" target=\"_parent\"><img src=\"https://colab.research.google.com/assets/colab-badge.svg\" alt=\"Open In Colab\"/></a>"
      ]
    },
    {
      "cell_type": "code",
      "metadata": {
        "colab": {
          "base_uri": "https://localhost:8080/",
          "height": 105
        },
        "id": "CUSYpqPLQtZQ",
        "outputId": "40b24b82-3b6c-44cd-d7bd-cb841fa2f039"
      },
      "source": [
        "'''MINI PROJECT: COVID 19 Data Analysis\n",
        "\n",
        "Description: Ingest data from the latest New York Times' county-level COVID-19 database \n",
        "at https://github.com/nytimes/covid-19-data/blob/master/us-counties.csv, filter the data for a chosen county in a\n",
        "chosen state, calculate the daily count of new cases and new deaths, print the most recent 30 days' worth of data for\n",
        "the selected county. Perform EDA and show your findings through different plots and visualization techniques.\n",
        "\n",
        "Task 1 : Environment Set up\n",
        "Task 2 : Data Collection\n",
        "Task 3 : Data Wrangling and EDA (Exploratory Data Analysis)\n",
        "Task 4: Understand NY Covid 19 data in last 30 days\n",
        "Task 5: Comparing Covid 19 data with different states\n",
        "Task 6: Conclusion\n",
        "'''"
      ],
      "execution_count": 1,
      "outputs": [
        {
          "output_type": "execute_result",
          "data": {
            "application/vnd.google.colaboratory.intrinsic+json": {
              "type": "string"
            },
            "text/plain": [
              "\"MINI PROJECT: COVID 19 Data Analysis\\n\\nDescription: Ingest data from the latest New York Times' county-level COVID-19 database \\nat https://github.com/nytimes/covid-19-data/blob/master/us-counties.csv, filter the data for a chosen county in a\\nchosen state, calculate the daily count of new cases and new deaths, print the most recent 30 days' worth of data for\\nthe selected county. Perform EDA and show your findings through different plots and visualization techniques.\\n\\nTask 1 : Environment Set up\\nTask 2 : Data Collection\\nTask 3 : Data Wrangling and EDA (Exploratory Data Analysis)\\nTask 4: Understand NY Covid 19 data in last 30 days\\nTask 5: Comparing Covid 19 data with different states\\nTask 6: Conclusion\\n\""
            ]
          },
          "metadata": {
            "tags": []
          },
          "execution_count": 1
        }
      ]
    },
    {
      "cell_type": "code",
      "metadata": {
        "id": "BzLo50gNLiYu"
      },
      "source": [
        "# Task 1: Environment Set up\n",
        "import numpy as np\n",
        "import pandas as pd\n",
        "from datetime import date, timedelta\n",
        "import matplotlib.pyplot as plt\n",
        "%matplotlib inline"
      ],
      "execution_count": 2,
      "outputs": []
    },
    {
      "cell_type": "code",
      "metadata": {
        "colab": {
          "base_uri": "https://localhost:8080/",
          "height": 419
        },
        "id": "5BIBWx8JLtoX",
        "outputId": "c27b0e42-dd4b-472f-f3a2-e9ab0a15658e"
      },
      "source": [
        "# Task 2: Data Collection: The following two lines imports the csv file from the link above and prints the first few records and confirms there are 939K+ rows × 6 columns\n",
        "covid_file = pd.read_csv('https://raw.githubusercontent.com/nytimes/covid-19-data/master/us-counties.csv')\n",
        "covid_file"
      ],
      "execution_count": 3,
      "outputs": [
        {
          "output_type": "execute_result",
          "data": {
            "text/html": [
              "<div>\n",
              "<style scoped>\n",
              "    .dataframe tbody tr th:only-of-type {\n",
              "        vertical-align: middle;\n",
              "    }\n",
              "\n",
              "    .dataframe tbody tr th {\n",
              "        vertical-align: top;\n",
              "    }\n",
              "\n",
              "    .dataframe thead th {\n",
              "        text-align: right;\n",
              "    }\n",
              "</style>\n",
              "<table border=\"1\" class=\"dataframe\">\n",
              "  <thead>\n",
              "    <tr style=\"text-align: right;\">\n",
              "      <th></th>\n",
              "      <th>date</th>\n",
              "      <th>county</th>\n",
              "      <th>state</th>\n",
              "      <th>fips</th>\n",
              "      <th>cases</th>\n",
              "      <th>deaths</th>\n",
              "    </tr>\n",
              "  </thead>\n",
              "  <tbody>\n",
              "    <tr>\n",
              "      <th>0</th>\n",
              "      <td>2020-01-21</td>\n",
              "      <td>Snohomish</td>\n",
              "      <td>Washington</td>\n",
              "      <td>53061.0</td>\n",
              "      <td>1</td>\n",
              "      <td>0.0</td>\n",
              "    </tr>\n",
              "    <tr>\n",
              "      <th>1</th>\n",
              "      <td>2020-01-22</td>\n",
              "      <td>Snohomish</td>\n",
              "      <td>Washington</td>\n",
              "      <td>53061.0</td>\n",
              "      <td>1</td>\n",
              "      <td>0.0</td>\n",
              "    </tr>\n",
              "    <tr>\n",
              "      <th>2</th>\n",
              "      <td>2020-01-23</td>\n",
              "      <td>Snohomish</td>\n",
              "      <td>Washington</td>\n",
              "      <td>53061.0</td>\n",
              "      <td>1</td>\n",
              "      <td>0.0</td>\n",
              "    </tr>\n",
              "    <tr>\n",
              "      <th>3</th>\n",
              "      <td>2020-01-24</td>\n",
              "      <td>Cook</td>\n",
              "      <td>Illinois</td>\n",
              "      <td>17031.0</td>\n",
              "      <td>1</td>\n",
              "      <td>0.0</td>\n",
              "    </tr>\n",
              "    <tr>\n",
              "      <th>4</th>\n",
              "      <td>2020-01-24</td>\n",
              "      <td>Snohomish</td>\n",
              "      <td>Washington</td>\n",
              "      <td>53061.0</td>\n",
              "      <td>1</td>\n",
              "      <td>0.0</td>\n",
              "    </tr>\n",
              "    <tr>\n",
              "      <th>...</th>\n",
              "      <td>...</td>\n",
              "      <td>...</td>\n",
              "      <td>...</td>\n",
              "      <td>...</td>\n",
              "      <td>...</td>\n",
              "      <td>...</td>\n",
              "    </tr>\n",
              "    <tr>\n",
              "      <th>943228</th>\n",
              "      <td>2021-01-18</td>\n",
              "      <td>Sweetwater</td>\n",
              "      <td>Wyoming</td>\n",
              "      <td>56037.0</td>\n",
              "      <td>3312</td>\n",
              "      <td>26.0</td>\n",
              "    </tr>\n",
              "    <tr>\n",
              "      <th>943229</th>\n",
              "      <td>2021-01-18</td>\n",
              "      <td>Teton</td>\n",
              "      <td>Wyoming</td>\n",
              "      <td>56039.0</td>\n",
              "      <td>2753</td>\n",
              "      <td>4.0</td>\n",
              "    </tr>\n",
              "    <tr>\n",
              "      <th>943230</th>\n",
              "      <td>2021-01-18</td>\n",
              "      <td>Uinta</td>\n",
              "      <td>Wyoming</td>\n",
              "      <td>56041.0</td>\n",
              "      <td>1833</td>\n",
              "      <td>9.0</td>\n",
              "    </tr>\n",
              "    <tr>\n",
              "      <th>943231</th>\n",
              "      <td>2021-01-18</td>\n",
              "      <td>Washakie</td>\n",
              "      <td>Wyoming</td>\n",
              "      <td>56043.0</td>\n",
              "      <td>843</td>\n",
              "      <td>23.0</td>\n",
              "    </tr>\n",
              "    <tr>\n",
              "      <th>943232</th>\n",
              "      <td>2021-01-18</td>\n",
              "      <td>Weston</td>\n",
              "      <td>Wyoming</td>\n",
              "      <td>56045.0</td>\n",
              "      <td>602</td>\n",
              "      <td>4.0</td>\n",
              "    </tr>\n",
              "  </tbody>\n",
              "</table>\n",
              "<p>943233 rows × 6 columns</p>\n",
              "</div>"
            ],
            "text/plain": [
              "              date      county       state     fips  cases  deaths\n",
              "0       2020-01-21   Snohomish  Washington  53061.0      1     0.0\n",
              "1       2020-01-22   Snohomish  Washington  53061.0      1     0.0\n",
              "2       2020-01-23   Snohomish  Washington  53061.0      1     0.0\n",
              "3       2020-01-24        Cook    Illinois  17031.0      1     0.0\n",
              "4       2020-01-24   Snohomish  Washington  53061.0      1     0.0\n",
              "...            ...         ...         ...      ...    ...     ...\n",
              "943228  2021-01-18  Sweetwater     Wyoming  56037.0   3312    26.0\n",
              "943229  2021-01-18       Teton     Wyoming  56039.0   2753     4.0\n",
              "943230  2021-01-18       Uinta     Wyoming  56041.0   1833     9.0\n",
              "943231  2021-01-18    Washakie     Wyoming  56043.0    843    23.0\n",
              "943232  2021-01-18      Weston     Wyoming  56045.0    602     4.0\n",
              "\n",
              "[943233 rows x 6 columns]"
            ]
          },
          "metadata": {
            "tags": []
          },
          "execution_count": 3
        }
      ]
    },
    {
      "cell_type": "code",
      "metadata": {
        "colab": {
          "base_uri": "https://localhost:8080/",
          "height": 330
        },
        "id": "z2Xi2IO4MAkB",
        "outputId": "4066efcc-d1fb-442f-a355-5e5e15c478b5"
      },
      "source": [
        "#Task 3: Data Wrangling and EDA\n",
        "\n",
        "#Selects the date, county, state, fips, cases, and deaths columns from the file (the aforementioned fields are all of the columns.)\n",
        "covid_file[['date','county','state', 'fips', 'cases', 'deaths']]\n",
        "covid_file\n",
        "\n",
        "#Filters Westchester County in New York State \n",
        "covid_file_westchester_newyork = covid_file[(covid_file['county']=='Westchester') & (covid_file['state']=='New York')]\n",
        "covid_file_westchester_newyork\n",
        "\n",
        "#Confirms the number of cases in Westchester County, New York and saves it in a variable named c3\n",
        "c3 = covid_file_westchester_newyork.groupby(['county'])['cases'].count()\n",
        "c3\n",
        "\n",
        "#Calculates the count cases per day in Westchester County, New York and depicts this information via a line graph\n",
        "c4 = covid_file_westchester_newyork.groupby(['date'])['cases'].sum()\n",
        "c4\n",
        "\n",
        "covid_file_westchester_newyork.groupby(['date'])['cases'].sum().sort_values(ascending=True).plot(kind='line')\n",
        "\n",
        "#Calculates the count deaths per day in Westchester County, New York\n",
        "c5 = covid_file_westchester_newyork.groupby(['date'])['deaths'].sum()\n",
        "c5\n",
        "\n",
        "covid_file_westchester_newyork.groupby(['date'])['deaths'].sum().sort_values(ascending=True).plot(kind='line')\n",
        "\n",
        "#Calculates the total number of cases in Westchester County, New York\n",
        "c6 = covid_file_westchester_newyork.groupby(['county'])['cases'].sum()\n",
        "c6\n",
        "\n",
        "#Calculates the total number of deaths in Westchester County, New York\n",
        "c7 = covid_file_westchester_newyork.groupby(['county'])['deaths'].sum()\n",
        "c7"
      ],
      "execution_count": 4,
      "outputs": [
        {
          "output_type": "execute_result",
          "data": {
            "text/plain": [
              "county\n",
              "Westchester    416489.0\n",
              "Name: deaths, dtype: float64"
            ]
          },
          "metadata": {
            "tags": []
          },
          "execution_count": 4
        },
        {
          "output_type": "display_data",
          "data": {
            "image/png": "[encoded data removed]",
            "text/plain": [
              "<Figure size 432x288 with 1 Axes>"
            ]
          },
          "metadata": {
            "tags": [],
            "needs_background": "light"
          }
        }
      ]
    },
    {
      "cell_type": "code",
      "metadata": {
        "colab": {
          "base_uri": "https://localhost:8080/",
          "height": 419
        },
        "id": "GhWdnsq2MlvE",
        "outputId": "1482f43c-73b8-438d-91d5-b399d46c2e37"
      },
      "source": [
        "#Task 4: Understand NY Covid 19 data in last 30 days\n",
        "#Task 4: Understand NY Covid 19 data in last 30 days\n",
        "\n",
        "df_last30days = covid_file_westchester_newyork[(covid_file_westchester_newyork['date'] <= '2021-12-19') & (covid_file_westchester_newyork['date'] >= '2020-1-18')]\n",
        "df_last30days"
      ],
      "execution_count": 5,
      "outputs": [
        {
          "output_type": "execute_result",
          "data": {
            "text/html": [
              "<div>\n",
              "<style scoped>\n",
              "    .dataframe tbody tr th:only-of-type {\n",
              "        vertical-align: middle;\n",
              "    }\n",
              "\n",
              "    .dataframe tbody tr th {\n",
              "        vertical-align: top;\n",
              "    }\n",
              "\n",
              "    .dataframe thead th {\n",
              "        text-align: right;\n",
              "    }\n",
              "</style>\n",
              "<table border=\"1\" class=\"dataframe\">\n",
              "  <thead>\n",
              "    <tr style=\"text-align: right;\">\n",
              "      <th></th>\n",
              "      <th>date</th>\n",
              "      <th>county</th>\n",
              "      <th>state</th>\n",
              "      <th>fips</th>\n",
              "      <th>cases</th>\n",
              "      <th>deaths</th>\n",
              "    </tr>\n",
              "  </thead>\n",
              "  <tbody>\n",
              "    <tr>\n",
              "      <th>588199</th>\n",
              "      <td>2020-10-01</td>\n",
              "      <td>Westchester</td>\n",
              "      <td>New York</td>\n",
              "      <td>36119.0</td>\n",
              "      <td>38299</td>\n",
              "      <td>1456.0</td>\n",
              "    </tr>\n",
              "    <tr>\n",
              "      <th>591440</th>\n",
              "      <td>2020-10-02</td>\n",
              "      <td>Westchester</td>\n",
              "      <td>New York</td>\n",
              "      <td>36119.0</td>\n",
              "      <td>38345</td>\n",
              "      <td>1456.0</td>\n",
              "    </tr>\n",
              "    <tr>\n",
              "      <th>594681</th>\n",
              "      <td>2020-10-03</td>\n",
              "      <td>Westchester</td>\n",
              "      <td>New York</td>\n",
              "      <td>36119.0</td>\n",
              "      <td>38430</td>\n",
              "      <td>1456.0</td>\n",
              "    </tr>\n",
              "    <tr>\n",
              "      <th>597924</th>\n",
              "      <td>2020-10-04</td>\n",
              "      <td>Westchester</td>\n",
              "      <td>New York</td>\n",
              "      <td>36119.0</td>\n",
              "      <td>38474</td>\n",
              "      <td>1457.0</td>\n",
              "    </tr>\n",
              "    <tr>\n",
              "      <th>601167</th>\n",
              "      <td>2020-10-05</td>\n",
              "      <td>Westchester</td>\n",
              "      <td>New York</td>\n",
              "      <td>36119.0</td>\n",
              "      <td>38514</td>\n",
              "      <td>1457.0</td>\n",
              "    </tr>\n",
              "    <tr>\n",
              "      <th>...</th>\n",
              "      <td>...</td>\n",
              "      <td>...</td>\n",
              "      <td>...</td>\n",
              "      <td>...</td>\n",
              "      <td>...</td>\n",
              "      <td>...</td>\n",
              "    </tr>\n",
              "    <tr>\n",
              "      <th>928908</th>\n",
              "      <td>2021-01-14</td>\n",
              "      <td>Westchester</td>\n",
              "      <td>New York</td>\n",
              "      <td>36119.0</td>\n",
              "      <td>80868</td>\n",
              "      <td>1763.0</td>\n",
              "    </tr>\n",
              "    <tr>\n",
              "      <th>932153</th>\n",
              "      <td>2021-01-15</td>\n",
              "      <td>Westchester</td>\n",
              "      <td>New York</td>\n",
              "      <td>36119.0</td>\n",
              "      <td>81981</td>\n",
              "      <td>1774.0</td>\n",
              "    </tr>\n",
              "    <tr>\n",
              "      <th>935398</th>\n",
              "      <td>2021-01-16</td>\n",
              "      <td>Westchester</td>\n",
              "      <td>New York</td>\n",
              "      <td>36119.0</td>\n",
              "      <td>82932</td>\n",
              "      <td>1780.0</td>\n",
              "    </tr>\n",
              "    <tr>\n",
              "      <th>938643</th>\n",
              "      <td>2021-01-17</td>\n",
              "      <td>Westchester</td>\n",
              "      <td>New York</td>\n",
              "      <td>36119.0</td>\n",
              "      <td>83707</td>\n",
              "      <td>1789.0</td>\n",
              "    </tr>\n",
              "    <tr>\n",
              "      <th>941888</th>\n",
              "      <td>2021-01-18</td>\n",
              "      <td>Westchester</td>\n",
              "      <td>New York</td>\n",
              "      <td>36119.0</td>\n",
              "      <td>84419</td>\n",
              "      <td>1797.0</td>\n",
              "    </tr>\n",
              "  </tbody>\n",
              "</table>\n",
              "<p>110 rows × 6 columns</p>\n",
              "</div>"
            ],
            "text/plain": [
              "              date       county     state     fips  cases  deaths\n",
              "588199  2020-10-01  Westchester  New York  36119.0  38299  1456.0\n",
              "591440  2020-10-02  Westchester  New York  36119.0  38345  1456.0\n",
              "594681  2020-10-03  Westchester  New York  36119.0  38430  1456.0\n",
              "597924  2020-10-04  Westchester  New York  36119.0  38474  1457.0\n",
              "601167  2020-10-05  Westchester  New York  36119.0  38514  1457.0\n",
              "...            ...          ...       ...      ...    ...     ...\n",
              "928908  2021-01-14  Westchester  New York  36119.0  80868  1763.0\n",
              "932153  2021-01-15  Westchester  New York  36119.0  81981  1774.0\n",
              "935398  2021-01-16  Westchester  New York  36119.0  82932  1780.0\n",
              "938643  2021-01-17  Westchester  New York  36119.0  83707  1789.0\n",
              "941888  2021-01-18  Westchester  New York  36119.0  84419  1797.0\n",
              "\n",
              "[110 rows x 6 columns]"
            ]
          },
          "metadata": {
            "tags": []
          },
          "execution_count": 5
        }
      ]
    },
    {
      "cell_type": "code",
      "metadata": {
        "colab": {
          "base_uri": "https://localhost:8080/",
          "height": 686
        },
        "id": "ILtYkfkZNDoZ",
        "outputId": "d81b3176-eef8-4f6e-a37a-22aed2d77f14"
      },
      "source": [
        "#Task 5: Comparing Covid 19 data with different states\n",
        "\n",
        "#Calculates the total cases for each state and depicts it via a bar chart\n",
        "c8 = covid_file.groupby(['state'])['cases'].sum().sort_values(ascending=True)\n",
        "c8\n",
        "\n",
        "covid_file.groupby(['state'])['cases'].sum().sort_values(ascending=True).plot(kind='bar')\n",
        "\n",
        "#Calculates the total deaths for each state and depicts it via a bar graph\n",
        "c9 = covid_file.groupby(['state'])['deaths'].sum().sort_values(ascending=True)\n",
        "c9\n",
        "\n",
        "covid_file.groupby(['state'])['deaths'].sum().sort_values(ascending=True).plot(kind='bar')\n",
        "\n",
        "#depicts general information regarding the oroginal data set\n",
        "covid_file.describe()\n"
      ],
      "execution_count": 6,
      "outputs": [
        {
          "output_type": "execute_result",
          "data": {
            "text/html": [
              "<div>\n",
              "<style scoped>\n",
              "    .dataframe tbody tr th:only-of-type {\n",
              "        vertical-align: middle;\n",
              "    }\n",
              "\n",
              "    .dataframe tbody tr th {\n",
              "        vertical-align: top;\n",
              "    }\n",
              "\n",
              "    .dataframe thead th {\n",
              "        text-align: right;\n",
              "    }\n",
              "</style>\n",
              "<table border=\"1\" class=\"dataframe\">\n",
              "  <thead>\n",
              "    <tr style=\"text-align: right;\">\n",
              "      <th></th>\n",
              "      <th>fips</th>\n",
              "      <th>cases</th>\n",
              "      <th>deaths</th>\n",
              "    </tr>\n",
              "  </thead>\n",
              "  <tbody>\n",
              "    <tr>\n",
              "      <th>count</th>\n",
              "      <td>934434.000000</td>\n",
              "      <td>9.432330e+05</td>\n",
              "      <td>923068.000000</td>\n",
              "    </tr>\n",
              "    <tr>\n",
              "      <th>mean</th>\n",
              "      <td>31273.607788</td>\n",
              "      <td>2.256154e+03</td>\n",
              "      <td>57.562226</td>\n",
              "    </tr>\n",
              "    <tr>\n",
              "      <th>std</th>\n",
              "      <td>16301.113750</td>\n",
              "      <td>1.185291e+04</td>\n",
              "      <td>462.654322</td>\n",
              "    </tr>\n",
              "    <tr>\n",
              "      <th>min</th>\n",
              "      <td>1001.000000</td>\n",
              "      <td>0.000000e+00</td>\n",
              "      <td>0.000000</td>\n",
              "    </tr>\n",
              "    <tr>\n",
              "      <th>25%</th>\n",
              "      <td>19001.000000</td>\n",
              "      <td>4.100000e+01</td>\n",
              "      <td>0.000000</td>\n",
              "    </tr>\n",
              "    <tr>\n",
              "      <th>50%</th>\n",
              "      <td>29217.000000</td>\n",
              "      <td>2.690000e+02</td>\n",
              "      <td>5.000000</td>\n",
              "    </tr>\n",
              "    <tr>\n",
              "      <th>75%</th>\n",
              "      <td>46101.000000</td>\n",
              "      <td>1.161000e+03</td>\n",
              "      <td>25.000000</td>\n",
              "    </tr>\n",
              "    <tr>\n",
              "      <th>max</th>\n",
              "      <td>78030.000000</td>\n",
              "      <td>1.024592e+06</td>\n",
              "      <td>26104.000000</td>\n",
              "    </tr>\n",
              "  </tbody>\n",
              "</table>\n",
              "</div>"
            ],
            "text/plain": [
              "                fips         cases         deaths\n",
              "count  934434.000000  9.432330e+05  923068.000000\n",
              "mean    31273.607788  2.256154e+03      57.562226\n",
              "std     16301.113750  1.185291e+04     462.654322\n",
              "min      1001.000000  0.000000e+00       0.000000\n",
              "25%     19001.000000  4.100000e+01       0.000000\n",
              "50%     29217.000000  2.690000e+02       5.000000\n",
              "75%     46101.000000  1.161000e+03      25.000000\n",
              "max     78030.000000  1.024592e+06   26104.000000"
            ]
          },
          "metadata": {
            "tags": []
          },
          "execution_count": 6
        },
        {
          "output_type": "display_data",
          "data": {
            "image/png": "[encoded data removed]",
            "text/plain": [
              "<Figure size 432x288 with 1 Axes>"
            ]
          },
          "metadata": {
            "tags": [],
            "needs_background": "light"
          }
        }
      ]
    },
    {
      "cell_type": "code",
      "metadata": {
        "colab": {
          "base_uri": "https://localhost:8080/",
          "height": 88
        },
        "id": "w1fctXfqNDzr",
        "outputId": "2edf9a9a-c148-4d1b-f0a1-e82dacb7cecc"
      },
      "source": [
        "#Task 6: Conclusion\n",
        "'''Based on my findings, New York has the highest amount of deaths. The top five states with the highest deaths\n",
        "are Florida, Texas, California, New Jersey, and New York. Additonally, the top five states with the highest cases\n",
        "are Illinois, New York, Florida, Texas, and California. When comparing both of the aformentioned statements, the data\n",
        "tells a story that Illinois and New Jersey residents are recovering from COVID-19 more than New York, Florida, and California. \n",
        "'''"
      ],
      "execution_count": 7,
      "outputs": [
        {
          "output_type": "execute_result",
          "data": {
            "application/vnd.google.colaboratory.intrinsic+json": {
              "type": "string"
            },
            "text/plain": [
              "'Based on my findings, New York has the highest amount of deaths. The top five states with the highest deaths\\nare Florida, Texas, California, New Jersey, and New York. Additonally, the top five states with the highest cases\\nare Illinois, New York, Florida, Texas, and California. When comparing both of the aformentioned statements, the data\\ntells a story that Illinois and New Jersey residents are recovering from COVID-19 more than New York, Florida, and California. \\n'"
            ]
          },
          "metadata": {
            "tags": []
          },
          "execution_count": 7
        }
      ]
    }
  ]
}